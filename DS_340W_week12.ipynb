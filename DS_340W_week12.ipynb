{
  "nbformat": 4,
  "nbformat_minor": 0,
  "metadata": {
    "colab": {
      "provenance": []
    },
    "kernelspec": {
      "name": "python3",
      "display_name": "Python 3"
    },
    "language_info": {
      "name": "python"
    }
  },
  "cells": [
    {
      "cell_type": "code",
      "source": [
        "!pip install emoji"
      ],
      "metadata": {
        "colab": {
          "base_uri": "https://localhost:8080/"
        },
        "id": "NYJSAavBfg7s",
        "outputId": "6c32bad0-0d1a-4d08-8bbc-42f75588f8cc"
      },
      "execution_count": 2,
      "outputs": [
        {
          "output_type": "stream",
          "name": "stdout",
          "text": [
            "Collecting emoji\n",
            "  Downloading emoji-2.11.0-py2.py3-none-any.whl (433 kB)\n",
            "\u001b[?25l     \u001b[90m━━━━━━━━━━━━━━━━━━━━━━━━━━━━━━━━━━━━━━━━\u001b[0m \u001b[32m0.0/433.8 kB\u001b[0m \u001b[31m?\u001b[0m eta \u001b[36m-:--:--\u001b[0m\r\u001b[2K     \u001b[91m━━━━━━━━━━━━━━━━━━━━\u001b[0m\u001b[91m╸\u001b[0m\u001b[90m━━━━━━━━━━━━━━━━━━━\u001b[0m \u001b[32m225.3/433.8 kB\u001b[0m \u001b[31m6.5 MB/s\u001b[0m eta \u001b[36m0:00:01\u001b[0m\r\u001b[2K     \u001b[90m━━━━━━━━━━━━━━━━━━━━━━━━━━━━━━━━━━━━━━━━\u001b[0m \u001b[32m433.8/433.8 kB\u001b[0m \u001b[31m8.0 MB/s\u001b[0m eta \u001b[36m0:00:00\u001b[0m\n",
            "\u001b[?25hInstalling collected packages: emoji\n",
            "Successfully installed emoji-2.11.0\n"
          ]
        }
      ]
    },
    {
      "cell_type": "code",
      "execution_count": 3,
      "metadata": {
        "colab": {
          "base_uri": "https://localhost:8080/"
        },
        "id": "HmFwE5XRfT75",
        "outputId": "c9eb131a-7344-432a-992c-dd62c2b3be8a"
      },
      "outputs": [
        {
          "output_type": "stream",
          "name": "stderr",
          "text": [
            "[nltk_data] Downloading package punkt to /root/nltk_data...\n",
            "[nltk_data]   Unzipping tokenizers/punkt.zip.\n",
            "[nltk_data] Downloading package stopwords to /root/nltk_data...\n",
            "[nltk_data]   Unzipping corpora/stopwords.zip.\n",
            "[nltk_data] Downloading package wordnet to /root/nltk_data...\n",
            "[nltk_data] Downloading package averaged_perceptron_tagger to\n",
            "[nltk_data]     /root/nltk_data...\n",
            "[nltk_data]   Unzipping taggers/averaged_perceptron_tagger.zip.\n",
            "[nltk_data] Downloading package vader_lexicon to /root/nltk_data...\n"
          ]
        }
      ],
      "source": [
        "import pandas as pd\n",
        "import re\n",
        "import nltk\n",
        "import emoji\n",
        "from nltk.corpus import stopwords\n",
        "from nltk.tokenize import word_tokenize\n",
        "from nltk.stem import WordNetLemmatizer\n",
        "from nltk.sentiment import SentimentIntensityAnalyzer\n",
        "from sklearn.feature_extraction.text import TfidfVectorizer\n",
        "import numpy as np\n",
        "\n",
        "# Download necessary NLTK resources\n",
        "nltk.download('punkt')\n",
        "nltk.download('stopwords')\n",
        "nltk.download('wordnet')\n",
        "nltk.download('averaged_perceptron_tagger')\n",
        "nltk.download('vader_lexicon')\n",
        "\n",
        "# Load the dataset\n",
        "data = pd.read_csv('amazon.csv')\n",
        "\n",
        "# Drop rows with missing values\n",
        "data.dropna(inplace=True)\n",
        "\n",
        "# Text preprocessing function\n",
        "def preprocess_text(text):\n",
        "    # Remove emojis\n",
        "    text = emoji.demojize(text)\n",
        "    text = re.sub(r':[^:\\s]+:', '', text)\n",
        "    text = re.sub(r'::', '', text)\n",
        "\n",
        "    text = text.lower()  # Convert to lowercase\n",
        "    text = re.sub(r'[^a-zA-Z\\s]', '', text)  # Remove special characters\n",
        "    tokens = word_tokenize(text)  # Tokenize\n",
        "    stop_words = set(stopwords.words('english'))\n",
        "    filtered_tokens = [word for word in tokens if not word in stop_words]  # Remove stopwords\n",
        "    lemmatizer = WordNetLemmatizer()\n",
        "    lemmatized_tokens = [lemmatizer.lemmatize(word) for word in filtered_tokens]  # Lemmatize\n",
        "    return ' '.join(lemmatized_tokens)\n",
        "\n",
        "# Apply text preprocessing\n",
        "data['preprocessed'] = data['review_content'].apply(preprocess_text)\n",
        "\n",
        "# POS tagging and extracting adjectives and adverbs\n",
        "def extract_adj_adv(text):\n",
        "    tokens = word_tokenize(text)\n",
        "    tagged = nltk.pos_tag(tokens)\n",
        "    return ' '.join([word for word, tag in tagged if tag in ['JJ', 'RB']])\n",
        "\n",
        "data['adj_adv_only'] = data['preprocessed'].apply(extract_adj_adv)\n",
        "\n",
        "# Convert the 'adj_adv_only' Series to a DataFrame\n",
        "adj_adv_df = data['adj_adv_only'].to_frame()\n",
        "\n",
        "# Save the DataFrame to a CSV file\n",
        "adj_adv_df.to_csv('adj_adv_only.csv', index=False)\n"
      ]
    },
    {
      "cell_type": "code",
      "source": [
        "sia = SentimentIntensityAnalyzer()\n",
        "\n",
        "def compute_sentiment_score(text):\n",
        "    sentiment_scores = sia.polarity_scores(text)\n",
        "    return sentiment_scores['compound']  # Return the compound score\n",
        "\n",
        "data['sentiment_score'] = data['adj_adv_only'].apply(compute_sentiment_score)\n",
        "tfidf_vectorizer = TfidfVectorizer()\n",
        "tfidf_matrix = tfidf_vectorizer.fit_transform(data['adj_adv_only'])\n",
        "\n",
        "# Combine TF-IDF scores with sentiment scores\n",
        "tfidf_scores = tfidf_matrix.toarray()\n",
        "sentiment_scores = data['sentiment_score'].values\n",
        "\n",
        "# Calculate the product of TF-IDF scores and sentiment scores for each word in each review\n",
        "combined_scores = np.multiply(tfidf_scores, sentiment_scores[:, None])\n",
        "\n",
        "# Store terms and their combined scores in a DataFrame\n",
        "feature_names = tfidf_vectorizer.get_feature_names_out()\n",
        "combined_scores_mean = np.mean(combined_scores, axis=0)\n",
        "combined_df = pd.DataFrame({'Term': feature_names, 'Combined Score': combined_scores_mean})\n",
        "\n",
        "# Sort the DataFrame by combined scores\n",
        "combined_df_sorted = combined_df.sort_values(by='Combined Score', ascending=False)\n",
        "\n",
        "# Print the top 10 terms\n",
        "print(combined_df_sorted.head(10))"
      ],
      "metadata": {
        "colab": {
          "base_uri": "https://localhost:8080/"
        },
        "id": "oDsh78ubgR8Z",
        "outputId": "b3ea3879-831b-45ff-ee0b-6f378b3136d4"
      },
      "execution_count": 4,
      "outputs": [
        {
          "output_type": "stream",
          "name": "stdout",
          "text": [
            "        Term  Combined Score\n",
            "2280    good        0.112621\n",
            "185     also        0.036850\n",
            "1566    easy        0.035719\n",
            "6947    well        0.030491\n",
            "2377   great        0.026688\n",
            "5008  really        0.026657\n",
            "3863    nice        0.025659\n",
            "1900    fast        0.025627\n",
            "1738    even        0.022596\n",
            "1980    fine        0.021361\n"
          ]
        }
      ]
    },
    {
      "cell_type": "code",
      "source": [
        "# Extract comments for each top keyword excluding meaningless keywords\n",
        "top_keywords = combined_df_sorted['Term'].head(10).tolist()\n",
        "meaningless_keywords = ['also', 'really', 'even']\n",
        "top_keywords = [keyword for keyword in top_keywords if keyword not in meaningless_keywords]\n",
        "\n",
        "keyword_comments = {}\n",
        "\n",
        "for keyword in top_keywords:\n",
        "    # Filter the data to include only rows containing the keyword in the 'adj_adv_only' column\n",
        "    filtered_data = data[data['adj_adv_only'].str.contains(keyword)]\n",
        "\n",
        "    # Extract comments for the filtered data\n",
        "    comments = filtered_data['review_content'].tolist()\n",
        "\n",
        "    # Store the comments for the keyword\n",
        "    keyword_comments[keyword] = comments\n",
        "\n",
        "# Convert the dictionary to a list of DataFrames\n",
        "dfs = []\n",
        "for keyword, comments in keyword_comments.items():\n",
        "    # Get the ratings corresponding to the comments\n",
        "    ratings = []\n",
        "    for comment in comments:\n",
        "        # Find the rating corresponding to each comment\n",
        "        rating = data[data['review_content'] == comment]['rating'].values[0]\n",
        "        ratings.append(rating)\n",
        "    # Create a DataFrame with both comments and ratings\n",
        "    df = pd.DataFrame({'Term': keyword, 'Comment': comments, 'Rating': ratings})\n",
        "    dfs.append(df)\n",
        "\n",
        "# Concatenate all DataFrames into one\n",
        "comments_df = pd.concat(dfs, ignore_index=True)\n",
        "\n",
        "# Save the DataFrame to a CSV file\n",
        "comments_df.to_csv('keyword_comments_with_rating.csv', index=False)\n"
      ],
      "metadata": {
        "id": "VMkVLcTfgrMP"
      },
      "execution_count": 12,
      "outputs": []
    },
    {
      "cell_type": "code",
      "source": [
        "# Convert the 'Rating' column to numeric\n",
        "comments_df['Rating'] = pd.to_numeric(comments_df['Rating'], errors='coerce')\n",
        "\n",
        "# Group the DataFrame by 'Term' and calculate the mean of 'Rating' for each group\n",
        "average_ratings = comments_df.groupby('Term')['Rating'].mean().reset_index()\n",
        "\n",
        "# Print the DataFrame with average ratings\n",
        "print(average_ratings)\n"
      ],
      "metadata": {
        "colab": {
          "base_uri": "https://localhost:8080/"
        },
        "id": "TkVWe8PDrrcW",
        "outputId": "d6a0dc80-b74f-43ac-9219-b5c8393531fe"
      },
      "execution_count": 13,
      "outputs": [
        {
          "output_type": "stream",
          "name": "stdout",
          "text": [
            "    Term    Rating\n",
            "0   easy  4.140956\n",
            "1   fast  4.151042\n",
            "2   fine  4.117685\n",
            "3   good  4.105348\n",
            "4  great  4.134190\n",
            "5   nice  4.108848\n",
            "6   well  4.131361\n"
          ]
        }
      ]
    },
    {
      "cell_type": "code",
      "source": [
        "# Merge the DataFrames on the 'Term' column\n",
        "merged_df = pd.merge(average_ratings, combined_df_sorted, on='Term', how='inner')\n",
        "# Calculate the correlation coefficient\n",
        "correlation = merged_df['Rating'].corr(merged_df['Combined Score'])"
      ],
      "metadata": {
        "id": "Cpofe68mrn8J"
      },
      "execution_count": 14,
      "outputs": []
    },
    {
      "cell_type": "code",
      "source": [
        "import matplotlib.pyplot as plt\n",
        "\n",
        "# Scatter plot\n",
        "plt.figure(figsize=(8, 6))\n",
        "scatter = plt.scatter(merged_df['Combined Score'], merged_df['Rating'], color='blue', alpha=0.5)\n",
        "plt.title('Relationship between Sentiment Score and Average Rating')\n",
        "plt.xlabel('Sentiment Score')\n",
        "plt.ylabel('Average Rating')\n",
        "plt.grid(True)\n",
        "\n",
        "# Add annotations for each point\n",
        "for i, txt in enumerate(merged_df['Term']):\n",
        "    plt.annotate(txt, (merged_df['Combined Score'][i], merged_df['Rating'][i]), textcoords=\"offset points\", xytext=(0,10), ha='center')\n",
        "\n",
        "plt.tight_layout()  # Adjust layout to prevent clipping of annotations\n",
        "plt.show()\n"
      ],
      "metadata": {
        "colab": {
          "base_uri": "https://localhost:8080/",
          "height": 607
        },
        "id": "ZRTomxyjuI7b",
        "outputId": "201d54e6-d784-434f-c5a8-cdb143331864"
      },
      "execution_count": 15,
      "outputs": [
        {
          "output_type": "display_data",
          "data": {
            "text/plain": [
              "<Figure size 800x600 with 1 Axes>"
            ],
            "image/png": "[encoded data removed]"
          },
          "metadata": {}
        }
      ]
    }
  ]
}